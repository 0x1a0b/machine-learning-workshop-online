{
 "cells": [
  {
   "cell_type": "markdown",
   "metadata": {},
   "source": [
    "# Demo 2: Naive Bayes and DataStax Analytics\n",
    "------\n",
    "<img src=\"images/drinkWine.jpeg\" width=\"300\" height=\"500\">\n",
    "\n",
    "\n",
    "#### Dataset: https://archive.ics.uci.edu/ml/datasets/Wine+Quality"
   ]
  },
  {
   "cell_type": "markdown",
   "metadata": {},
   "source": [
    "## What are we trying to learn from this dataset? \n",
    "\n",
    "# QUESTION:  Can Naive Bayes be used to classify a wine’s rating score by its attributes?"
   ]
  },
  {
   "cell_type": "code",
   "execution_count": 20,
   "metadata": {},
   "outputs": [],
   "source": [
    "%matplotlib inline\n",
    "import matplotlib.pyplot as plt"
   ]
  },
  {
   "cell_type": "code",
   "execution_count": 21,
   "metadata": {},
   "outputs": [],
   "source": [
    "import pandas\n",
    "import cassandra\n",
    "import pyspark\n",
    "import re\n",
    "import os\n",
    "import random\n",
    "from random import randint, randrange\n",
    "import matplotlib.pyplot as plt\n",
    "from IPython.display import display, Markdown\n",
    "from pyspark.sql import SparkSession\n",
    "from pyspark.ml.classification import NaiveBayes\n",
    "from pyspark.ml.evaluation import MulticlassClassificationEvaluator\n",
    "from pyspark.ml.linalg import Vectors\n",
    "from pyspark.ml.feature import VectorAssembler\n",
    "from pyspark.ml.feature import StringIndexer"
   ]
  },
  {
   "cell_type": "markdown",
   "metadata": {},
   "source": [
    "#### Helper function to have nicer formatting of Spark DataFrames"
   ]
  },
  {
   "cell_type": "code",
   "execution_count": 22,
   "metadata": {},
   "outputs": [],
   "source": [
    "#Helper for pretty formatting for Spark DataFrames\n",
    "def showDF(df, limitRows =  5, truncate = True):\n",
    "    if(truncate):\n",
    "        pandas.set_option('display.max_colwidth', 50)\n",
    "    else:\n",
    "        pandas.set_option('display.max_colwidth', -1)\n",
    "    pandas.set_option('display.max_rows', limitRows)\n",
    "    display(df.limit(limitRows).toPandas())\n",
    "    pandas.reset_option('display.max_rows')"
   ]
  },
  {
   "cell_type": "markdown",
   "metadata": {},
   "source": [
    "# DataStax Enterprise Analytics\n",
    "<img src=\"images/dselogo.png\" width=\"400\" height=\"200\">"
   ]
  },
  {
   "cell_type": "markdown",
   "metadata": {},
   "source": [
    "## Creating Tables and Loading Tables"
   ]
  },
  {
   "cell_type": "markdown",
   "metadata": {},
   "source": [
    "### Connect to DSE Analytics Cluster"
   ]
  },
  {
   "cell_type": "code",
   "execution_count": 23,
   "metadata": {},
   "outputs": [],
   "source": [
    "from cassandra.cluster import Cluster\n",
    "\n",
    "cluster = Cluster(['dse'])\n",
    "session = cluster.connect()"
   ]
  },
  {
   "cell_type": "markdown",
   "metadata": {},
   "source": [
    "### Create Demo Keyspace "
   ]
  },
  {
   "cell_type": "code",
   "execution_count": 24,
   "metadata": {},
   "outputs": [
    {
     "data": {
      "text/plain": [
       "<cassandra.cluster.ResultSet at 0x7fb71aba3668>"
      ]
     },
     "execution_count": 24,
     "metadata": {},
     "output_type": "execute_result"
    }
   ],
   "source": [
    "session.execute(\"\"\"\n",
    "    CREATE KEYSPACE IF NOT EXISTS accelerate \n",
    "    WITH REPLICATION = \n",
    "    { 'class' : 'SimpleStrategy', 'replication_factor' : 1 }\"\"\"\n",
    ")"
   ]
  },
  {
   "cell_type": "markdown",
   "metadata": {},
   "source": [
    "### Set keyspace "
   ]
  },
  {
   "cell_type": "code",
   "execution_count": 25,
   "metadata": {},
   "outputs": [],
   "source": [
    "session.set_keyspace('accelerate')"
   ]
  },
  {
   "cell_type": "markdown",
   "metadata": {},
   "source": [
    "### Create table called `wines`. Our PRIMARY will be a unique key (wineid) we generate for each row.  This will have two datasets \"white\" and \"red\""
   ]
  },
  {
   "cell_type": "code",
   "execution_count": 27,
   "metadata": {},
   "outputs": [
    {
     "data": {
      "text/plain": [
       "<cassandra.cluster.ResultSet at 0x7fb7191b53c8>"
      ]
     },
     "execution_count": 27,
     "metadata": {},
     "output_type": "execute_result"
    }
   ],
   "source": [
    "query = \"CREATE TABLE IF NOT EXISTS wines \\\n",
    "                                   (wineid int, fixedAcidity float, volatileAcidity float, citricAcid float, sugar float, \\\n",
    "                                   chlorides float, freeSulfur float, totalSulfur float, density float, ph float, \\\n",
    "                                   sulphates float, alcohol float, quality float, \\\n",
    "                                   PRIMARY KEY (wineid))\"\n",
    "session.execute(query)"
   ]
  },
  {
   "cell_type": "markdown",
   "metadata": {},
   "source": [
    "### What do these of these 12 columns represent: \n",
    "\n",
    "* **Fixed acidity**\n",
    "* **Volatile acidity**\n",
    "* **Citric Acid**\n",
    "* **Residual Sugar** \n",
    "* **Chlorides**\n",
    "* **Free sulfur dioxide**     \n",
    "* **Total sulfur dioxide**\n",
    "* **Density** \n",
    "* **pH**\n",
    "* **Sulphates**\n",
    "* **Alcohol**\n",
    "* **Quality**"
   ]
  },
  {
   "cell_type": "markdown",
   "metadata": {},
   "source": [
    "### Load 2 Wine Dataset -- White and Red\n",
    "<img src=\"images/whiteAndRed.jpeg\" width=\"300\" height=\"300\">"
   ]
  },
  {
   "cell_type": "markdown",
   "metadata": {},
   "source": [
    "### Load Wine datasets from CSV file (winequality-red.csv winequality-white.csv)\n",
    "* No clean up was requried! How nice :)\n",
    "\n",
    "#### Insert all the Wine Data into the DSE table `wines`"
   ]
  },
  {
   "cell_type": "code",
   "execution_count": 28,
   "metadata": {},
   "outputs": [],
   "source": [
    "fileName = 'data/winequality-red.csv'\n",
    "input_file = open(fileName, 'r')\n",
    "i = 1\n",
    "for line in input_file:\n",
    "    wineid = i\n",
    "    row = line.split(';')\n",
    "        \n",
    "    query = \"INSERT INTO wines (wineid, fixedAcidity, volatileAcidity, citricAcid, sugar, \\\n",
    "                               chlorides, freeSulfur, totalSulfur, density, ph, \\\n",
    "                               sulphates, alcohol, quality)\"\n",
    "    query = query + \" VALUES (%s, %s, %s, %s, %s, %s, %s, %s, %s, %s, %s, %s, %s)\"\n",
    "    session.execute(query, (wineid, float(row[0]), float(row[1]), float(row[2]), float(row[3]), float(row[4]), float(row[5]), float(row[6]), float(row[7]), float(row[8]), float(row[9]), float(row[10]), float(row[11])))\n",
    "    i = i + 1\n",
    "\n",
    "fileName = 'data/winequality-white.csv'\n",
    "input_file = open(fileName, 'r')\n",
    "\n",
    "for line in input_file:\n",
    "    wineid = i\n",
    "    row = line.split(';')\n",
    "        \n",
    "    query = \"INSERT INTO wines (wineid, fixedAcidity, volatileAcidity, citricAcid, sugar, \\\n",
    "                               chlorides, freeSulfur, totalSulfur, density, ph, \\\n",
    "                               sulphates, alcohol, quality)\"\n",
    "    query = query + \" VALUES (%s, %s, %s, %s, %s, %s, %s, %s, %s, %s, %s, %s, %s)\"\n",
    "    session.execute(query, (wineid, float(row[0]), float(row[1]), float(row[2]), float(row[3]), float(row[4]), float(row[5]), float(row[6]), float(row[7]), float(row[8]), float(row[9]), float(row[10]), float(row[11])))\n",
    "    i = i + 1\n",
    "    "
   ]
  },
  {
   "cell_type": "markdown",
   "metadata": {},
   "source": [
    "## Machine Learning with DSE Analytics and Apache Spark\n",
    "<img src=\"images/sparklogo.png\" width=\"150\" height=\"200\">"
   ]
  },
  {
   "cell_type": "markdown",
   "metadata": {},
   "source": [
    "#### Create a spark session that is connected to DSE. From there load each table into a Spark Dataframe and take a count of the number of rows in each."
   ]
  },
  {
   "cell_type": "code",
   "execution_count": 29,
   "metadata": {},
   "outputs": [
    {
     "name": "stdout",
     "output_type": "stream",
     "text": [
      "Table Wine Row Count: \n",
      "6497\n"
     ]
    }
   ],
   "source": [
    "spark = SparkSession.builder.appName('demo').master(\"local\").getOrCreate()\n",
    "\n",
    "wineDF = spark.read.format(\"org.apache.spark.sql.cassandra\").options(table=\"wines\", keyspace=\"accelerate\").load()\n",
    "\n",
    "print (\"Table Wine Row Count: \")\n",
    "print (wineDF.count())"
   ]
  },
  {
   "cell_type": "code",
   "execution_count": 30,
   "metadata": {},
   "outputs": [
    {
     "data": {
      "text/html": [
       "<div>\n",
       "<style scoped>\n",
       "    .dataframe tbody tr th:only-of-type {\n",
       "        vertical-align: middle;\n",
       "    }\n",
       "\n",
       "    .dataframe tbody tr th {\n",
       "        vertical-align: top;\n",
       "    }\n",
       "\n",
       "    .dataframe thead th {\n",
       "        text-align: right;\n",
       "    }\n",
       "</style>\n",
       "<table border=\"1\" class=\"dataframe\">\n",
       "  <thead>\n",
       "    <tr style=\"text-align: right;\">\n",
       "      <th></th>\n",
       "      <th>wineid</th>\n",
       "      <th>alcohol</th>\n",
       "      <th>chlorides</th>\n",
       "      <th>citricacid</th>\n",
       "      <th>density</th>\n",
       "      <th>fixedacidity</th>\n",
       "      <th>freesulfur</th>\n",
       "      <th>ph</th>\n",
       "      <th>quality</th>\n",
       "      <th>sugar</th>\n",
       "      <th>sulphates</th>\n",
       "      <th>totalsulfur</th>\n",
       "      <th>volatileacidity</th>\n",
       "    </tr>\n",
       "  </thead>\n",
       "  <tbody>\n",
       "    <tr>\n",
       "      <td>0</td>\n",
       "      <td>4317</td>\n",
       "      <td>10.8</td>\n",
       "      <td>0.046</td>\n",
       "      <td>0.29</td>\n",
       "      <td>0.99518</td>\n",
       "      <td>6.8</td>\n",
       "      <td>59.0</td>\n",
       "      <td>3.20</td>\n",
       "      <td>6.0</td>\n",
       "      <td>10.4</td>\n",
       "      <td>0.40</td>\n",
       "      <td>143.0</td>\n",
       "      <td>0.16</td>\n",
       "    </tr>\n",
       "    <tr>\n",
       "      <td>1</td>\n",
       "      <td>3372</td>\n",
       "      <td>10.9</td>\n",
       "      <td>0.059</td>\n",
       "      <td>0.26</td>\n",
       "      <td>0.99550</td>\n",
       "      <td>7.8</td>\n",
       "      <td>32.0</td>\n",
       "      <td>3.04</td>\n",
       "      <td>6.0</td>\n",
       "      <td>9.5</td>\n",
       "      <td>0.43</td>\n",
       "      <td>178.0</td>\n",
       "      <td>0.40</td>\n",
       "    </tr>\n",
       "    <tr>\n",
       "      <td>2</td>\n",
       "      <td>1584</td>\n",
       "      <td>9.8</td>\n",
       "      <td>0.074</td>\n",
       "      <td>0.29</td>\n",
       "      <td>0.99578</td>\n",
       "      <td>6.2</td>\n",
       "      <td>32.0</td>\n",
       "      <td>3.33</td>\n",
       "      <td>5.0</td>\n",
       "      <td>2.1</td>\n",
       "      <td>0.62</td>\n",
       "      <td>98.0</td>\n",
       "      <td>0.46</td>\n",
       "    </tr>\n",
       "    <tr>\n",
       "      <td>3</td>\n",
       "      <td>4830</td>\n",
       "      <td>9.4</td>\n",
       "      <td>0.056</td>\n",
       "      <td>0.57</td>\n",
       "      <td>0.99548</td>\n",
       "      <td>6.7</td>\n",
       "      <td>60.0</td>\n",
       "      <td>2.96</td>\n",
       "      <td>6.0</td>\n",
       "      <td>6.6</td>\n",
       "      <td>0.43</td>\n",
       "      <td>150.0</td>\n",
       "      <td>0.13</td>\n",
       "    </tr>\n",
       "    <tr>\n",
       "      <td>4</td>\n",
       "      <td>2731</td>\n",
       "      <td>9.7</td>\n",
       "      <td>0.047</td>\n",
       "      <td>0.34</td>\n",
       "      <td>0.99440</td>\n",
       "      <td>6.9</td>\n",
       "      <td>24.0</td>\n",
       "      <td>3.20</td>\n",
       "      <td>6.0</td>\n",
       "      <td>4.0</td>\n",
       "      <td>0.52</td>\n",
       "      <td>128.0</td>\n",
       "      <td>0.23</td>\n",
       "    </tr>\n",
       "  </tbody>\n",
       "</table>\n",
       "</div>"
      ],
      "text/plain": [
       "   wineid  alcohol  chlorides  citricacid  density  fixedacidity  freesulfur  \\\n",
       "0    4317     10.8      0.046        0.29  0.99518           6.8        59.0   \n",
       "1    3372     10.9      0.059        0.26  0.99550           7.8        32.0   \n",
       "2    1584      9.8      0.074        0.29  0.99578           6.2        32.0   \n",
       "3    4830      9.4      0.056        0.57  0.99548           6.7        60.0   \n",
       "4    2731      9.7      0.047        0.34  0.99440           6.9        24.0   \n",
       "\n",
       "     ph  quality  sugar  sulphates  totalsulfur  volatileacidity  \n",
       "0  3.20      6.0   10.4       0.40        143.0             0.16  \n",
       "1  3.04      6.0    9.5       0.43        178.0             0.40  \n",
       "2  3.33      5.0    2.1       0.62         98.0             0.46  \n",
       "3  2.96      6.0    6.6       0.43        150.0             0.13  \n",
       "4  3.20      6.0    4.0       0.52        128.0             0.23  "
      ]
     },
     "metadata": {},
     "output_type": "display_data"
    }
   ],
   "source": [
    "showDF(wineDF)"
   ]
  },
  {
   "cell_type": "markdown",
   "metadata": {},
   "source": [
    "#### Let's filter out only wines that have been rated 6.0 or higher and create a new dataframe with that information "
   ]
  },
  {
   "cell_type": "code",
   "execution_count": 31,
   "metadata": {},
   "outputs": [
    {
     "data": {
      "text/html": [
       "<div>\n",
       "<style scoped>\n",
       "    .dataframe tbody tr th:only-of-type {\n",
       "        vertical-align: middle;\n",
       "    }\n",
       "\n",
       "    .dataframe tbody tr th {\n",
       "        vertical-align: top;\n",
       "    }\n",
       "\n",
       "    .dataframe thead th {\n",
       "        text-align: right;\n",
       "    }\n",
       "</style>\n",
       "<table border=\"1\" class=\"dataframe\">\n",
       "  <thead>\n",
       "    <tr style=\"text-align: right;\">\n",
       "      <th></th>\n",
       "      <th>wineid</th>\n",
       "      <th>alcohol</th>\n",
       "      <th>chlorides</th>\n",
       "      <th>citricacid</th>\n",
       "      <th>density</th>\n",
       "      <th>fixedacidity</th>\n",
       "      <th>freesulfur</th>\n",
       "      <th>ph</th>\n",
       "      <th>quality</th>\n",
       "      <th>sugar</th>\n",
       "      <th>sulphates</th>\n",
       "      <th>totalsulfur</th>\n",
       "      <th>volatileacidity</th>\n",
       "    </tr>\n",
       "  </thead>\n",
       "  <tbody>\n",
       "    <tr>\n",
       "      <td>0</td>\n",
       "      <td>4317</td>\n",
       "      <td>10.8</td>\n",
       "      <td>0.046</td>\n",
       "      <td>0.29</td>\n",
       "      <td>0.99518</td>\n",
       "      <td>6.8</td>\n",
       "      <td>59.0</td>\n",
       "      <td>3.20</td>\n",
       "      <td>6.0</td>\n",
       "      <td>10.4</td>\n",
       "      <td>0.40</td>\n",
       "      <td>143.0</td>\n",
       "      <td>0.16</td>\n",
       "    </tr>\n",
       "    <tr>\n",
       "      <td>1</td>\n",
       "      <td>3372</td>\n",
       "      <td>10.9</td>\n",
       "      <td>0.059</td>\n",
       "      <td>0.26</td>\n",
       "      <td>0.99550</td>\n",
       "      <td>7.8</td>\n",
       "      <td>32.0</td>\n",
       "      <td>3.04</td>\n",
       "      <td>6.0</td>\n",
       "      <td>9.5</td>\n",
       "      <td>0.43</td>\n",
       "      <td>178.0</td>\n",
       "      <td>0.40</td>\n",
       "    </tr>\n",
       "    <tr>\n",
       "      <td>2</td>\n",
       "      <td>4830</td>\n",
       "      <td>9.4</td>\n",
       "      <td>0.056</td>\n",
       "      <td>0.57</td>\n",
       "      <td>0.99548</td>\n",
       "      <td>6.7</td>\n",
       "      <td>60.0</td>\n",
       "      <td>2.96</td>\n",
       "      <td>6.0</td>\n",
       "      <td>6.6</td>\n",
       "      <td>0.43</td>\n",
       "      <td>150.0</td>\n",
       "      <td>0.13</td>\n",
       "    </tr>\n",
       "    <tr>\n",
       "      <td>3</td>\n",
       "      <td>2731</td>\n",
       "      <td>9.7</td>\n",
       "      <td>0.047</td>\n",
       "      <td>0.34</td>\n",
       "      <td>0.99440</td>\n",
       "      <td>6.9</td>\n",
       "      <td>24.0</td>\n",
       "      <td>3.20</td>\n",
       "      <td>6.0</td>\n",
       "      <td>4.0</td>\n",
       "      <td>0.52</td>\n",
       "      <td>128.0</td>\n",
       "      <td>0.23</td>\n",
       "    </tr>\n",
       "    <tr>\n",
       "      <td>4</td>\n",
       "      <td>769</td>\n",
       "      <td>9.7</td>\n",
       "      <td>0.082</td>\n",
       "      <td>0.02</td>\n",
       "      <td>0.99744</td>\n",
       "      <td>7.1</td>\n",
       "      <td>24.0</td>\n",
       "      <td>3.55</td>\n",
       "      <td>6.0</td>\n",
       "      <td>2.3</td>\n",
       "      <td>0.53</td>\n",
       "      <td>94.0</td>\n",
       "      <td>0.59</td>\n",
       "    </tr>\n",
       "  </tbody>\n",
       "</table>\n",
       "</div>"
      ],
      "text/plain": [
       "   wineid  alcohol  chlorides  citricacid  density  fixedacidity  freesulfur  \\\n",
       "0    4317     10.8      0.046        0.29  0.99518           6.8        59.0   \n",
       "1    3372     10.9      0.059        0.26  0.99550           7.8        32.0   \n",
       "2    4830      9.4      0.056        0.57  0.99548           6.7        60.0   \n",
       "3    2731      9.7      0.047        0.34  0.99440           6.9        24.0   \n",
       "4     769      9.7      0.082        0.02  0.99744           7.1        24.0   \n",
       "\n",
       "     ph  quality  sugar  sulphates  totalsulfur  volatileacidity  \n",
       "0  3.20      6.0   10.4       0.40        143.0             0.16  \n",
       "1  3.04      6.0    9.5       0.43        178.0             0.40  \n",
       "2  2.96      6.0    6.6       0.43        150.0             0.13  \n",
       "3  3.20      6.0    4.0       0.52        128.0             0.23  \n",
       "4  3.55      6.0    2.3       0.53         94.0             0.59  "
      ]
     },
     "metadata": {},
     "output_type": "display_data"
    }
   ],
   "source": [
    "wine6DF = wineDF.filter(\"quality > 5\")\n",
    "showDF(wine6DF)"
   ]
  },
  {
   "cell_type": "markdown",
   "metadata": {},
   "source": [
    "#### Create Vector with all elements of the wine "
   ]
  },
  {
   "cell_type": "code",
   "execution_count": 32,
   "metadata": {},
   "outputs": [
    {
     "data": {
      "text/html": [
       "<div>\n",
       "<style scoped>\n",
       "    .dataframe tbody tr th:only-of-type {\n",
       "        vertical-align: middle;\n",
       "    }\n",
       "\n",
       "    .dataframe tbody tr th {\n",
       "        vertical-align: top;\n",
       "    }\n",
       "\n",
       "    .dataframe thead th {\n",
       "        text-align: right;\n",
       "    }\n",
       "</style>\n",
       "<table border=\"1\" class=\"dataframe\">\n",
       "  <thead>\n",
       "    <tr style=\"text-align: right;\">\n",
       "      <th></th>\n",
       "      <th>wineid</th>\n",
       "      <th>alcohol</th>\n",
       "      <th>chlorides</th>\n",
       "      <th>citricacid</th>\n",
       "      <th>density</th>\n",
       "      <th>fixedacidity</th>\n",
       "      <th>freesulfur</th>\n",
       "      <th>ph</th>\n",
       "      <th>quality</th>\n",
       "      <th>sugar</th>\n",
       "      <th>sulphates</th>\n",
       "      <th>totalsulfur</th>\n",
       "      <th>volatileacidity</th>\n",
       "      <th>features</th>\n",
       "      <th>label</th>\n",
       "    </tr>\n",
       "  </thead>\n",
       "  <tbody>\n",
       "    <tr>\n",
       "      <td>0</td>\n",
       "      <td>4317</td>\n",
       "      <td>10.8</td>\n",
       "      <td>0.046</td>\n",
       "      <td>0.29</td>\n",
       "      <td>0.99518</td>\n",
       "      <td>6.8</td>\n",
       "      <td>59.0</td>\n",
       "      <td>3.20</td>\n",
       "      <td>6.0</td>\n",
       "      <td>10.4</td>\n",
       "      <td>0.40</td>\n",
       "      <td>143.0</td>\n",
       "      <td>0.16</td>\n",
       "      <td>[10.800000190734863, 0.04600000008940697, 0.28...</td>\n",
       "      <td>0.0</td>\n",
       "    </tr>\n",
       "    <tr>\n",
       "      <td>1</td>\n",
       "      <td>3372</td>\n",
       "      <td>10.9</td>\n",
       "      <td>0.059</td>\n",
       "      <td>0.26</td>\n",
       "      <td>0.99550</td>\n",
       "      <td>7.8</td>\n",
       "      <td>32.0</td>\n",
       "      <td>3.04</td>\n",
       "      <td>6.0</td>\n",
       "      <td>9.5</td>\n",
       "      <td>0.43</td>\n",
       "      <td>178.0</td>\n",
       "      <td>0.40</td>\n",
       "      <td>[10.899999618530273, 0.05900000035762787, 0.25...</td>\n",
       "      <td>0.0</td>\n",
       "    </tr>\n",
       "    <tr>\n",
       "      <td>2</td>\n",
       "      <td>4830</td>\n",
       "      <td>9.4</td>\n",
       "      <td>0.056</td>\n",
       "      <td>0.57</td>\n",
       "      <td>0.99548</td>\n",
       "      <td>6.7</td>\n",
       "      <td>60.0</td>\n",
       "      <td>2.96</td>\n",
       "      <td>6.0</td>\n",
       "      <td>6.6</td>\n",
       "      <td>0.43</td>\n",
       "      <td>150.0</td>\n",
       "      <td>0.13</td>\n",
       "      <td>[9.399999618530273, 0.0560000017285347, 0.5699...</td>\n",
       "      <td>0.0</td>\n",
       "    </tr>\n",
       "    <tr>\n",
       "      <td>3</td>\n",
       "      <td>2731</td>\n",
       "      <td>9.7</td>\n",
       "      <td>0.047</td>\n",
       "      <td>0.34</td>\n",
       "      <td>0.99440</td>\n",
       "      <td>6.9</td>\n",
       "      <td>24.0</td>\n",
       "      <td>3.20</td>\n",
       "      <td>6.0</td>\n",
       "      <td>4.0</td>\n",
       "      <td>0.52</td>\n",
       "      <td>128.0</td>\n",
       "      <td>0.23</td>\n",
       "      <td>[9.699999809265137, 0.04699999839067459, 0.340...</td>\n",
       "      <td>0.0</td>\n",
       "    </tr>\n",
       "    <tr>\n",
       "      <td>4</td>\n",
       "      <td>769</td>\n",
       "      <td>9.7</td>\n",
       "      <td>0.082</td>\n",
       "      <td>0.02</td>\n",
       "      <td>0.99744</td>\n",
       "      <td>7.1</td>\n",
       "      <td>24.0</td>\n",
       "      <td>3.55</td>\n",
       "      <td>6.0</td>\n",
       "      <td>2.3</td>\n",
       "      <td>0.53</td>\n",
       "      <td>94.0</td>\n",
       "      <td>0.59</td>\n",
       "      <td>[9.699999809265137, 0.0820000022649765, 0.0199...</td>\n",
       "      <td>0.0</td>\n",
       "    </tr>\n",
       "  </tbody>\n",
       "</table>\n",
       "</div>"
      ],
      "text/plain": [
       "   wineid  alcohol  chlorides  citricacid  density  fixedacidity  freesulfur  \\\n",
       "0    4317     10.8      0.046        0.29  0.99518           6.8        59.0   \n",
       "1    3372     10.9      0.059        0.26  0.99550           7.8        32.0   \n",
       "2    4830      9.4      0.056        0.57  0.99548           6.7        60.0   \n",
       "3    2731      9.7      0.047        0.34  0.99440           6.9        24.0   \n",
       "4     769      9.7      0.082        0.02  0.99744           7.1        24.0   \n",
       "\n",
       "     ph  quality  sugar  sulphates  totalsulfur  volatileacidity  \\\n",
       "0  3.20      6.0   10.4       0.40        143.0             0.16   \n",
       "1  3.04      6.0    9.5       0.43        178.0             0.40   \n",
       "2  2.96      6.0    6.6       0.43        150.0             0.13   \n",
       "3  3.20      6.0    4.0       0.52        128.0             0.23   \n",
       "4  3.55      6.0    2.3       0.53         94.0             0.59   \n",
       "\n",
       "                                            features  label  \n",
       "0  [10.800000190734863, 0.04600000008940697, 0.28...    0.0  \n",
       "1  [10.899999618530273, 0.05900000035762787, 0.25...    0.0  \n",
       "2  [9.399999618530273, 0.0560000017285347, 0.5699...    0.0  \n",
       "3  [9.699999809265137, 0.04699999839067459, 0.340...    0.0  \n",
       "4  [9.699999809265137, 0.0820000022649765, 0.0199...    0.0  "
      ]
     },
     "metadata": {},
     "output_type": "display_data"
    },
    {
     "name": "stdout",
     "output_type": "stream",
     "text": [
      "4113\n"
     ]
    }
   ],
   "source": [
    "assembler = VectorAssembler(\n",
    "    inputCols=['alcohol', 'chlorides', 'citricacid', 'density', 'fixedacidity', 'ph', 'freesulfur', 'sugar', 'sulphates', 'totalsulfur', 'volatileacidity'],\n",
    "    outputCol='features')\n",
    "\n",
    "trainingData = assembler.transform(wine6DF)\n",
    "\n",
    "labelIndexer = StringIndexer(inputCol=\"quality\", outputCol=\"label\", handleInvalid='keep')\n",
    "trainingData1 = labelIndexer.fit(trainingData).transform(trainingData)\n",
    "\n",
    "showDF(trainingData1)\n",
    "print(trainingData1.count())"
   ]
  },
  {
   "cell_type": "markdown",
   "metadata": {},
   "source": [
    "### We will be training a model with Naive Bays, and because of this we need to split up our dataset in to a training and test set. Will split 80/20. "
   ]
  },
  {
   "cell_type": "code",
   "execution_count": 33,
   "metadata": {},
   "outputs": [
    {
     "name": "stdout",
     "output_type": "stream",
     "text": [
      "Train Dataframe Row Count: \n",
      "3366\n",
      "Test Dataframe Row Count: \n",
      "747\n"
     ]
    }
   ],
   "source": [
    "# Split the data into train and test\n",
    "splits = trainingData1.randomSplit([0.8, 0.2], 1234)\n",
    "train = splits[0]\n",
    "test = splits[1]\n",
    "\n",
    "print (\"Train Dataframe Row Count: \")\n",
    "print (train.count())\n",
    "print (\"Test Dataframe Row Count: \")\n",
    "print (test.count())"
   ]
  },
  {
   "cell_type": "markdown",
   "metadata": {},
   "source": [
    "### Now it's time to to use NaiveBayes. We will train the model, then use that model with out testing data to get our predictions. \n",
    "https://spark.apache.org/docs/2.2.0/ml-classification-regression.html#naive-bayes"
   ]
  },
  {
   "cell_type": "code",
   "execution_count": 39,
   "metadata": {},
   "outputs": [
    {
     "name": "stdout",
     "output_type": "stream",
     "text": [
      "747\n"
     ]
    },
    {
     "data": {
      "text/html": [
       "<div>\n",
       "<style scoped>\n",
       "    .dataframe tbody tr th:only-of-type {\n",
       "        vertical-align: middle;\n",
       "    }\n",
       "\n",
       "    .dataframe tbody tr th {\n",
       "        vertical-align: top;\n",
       "    }\n",
       "\n",
       "    .dataframe thead th {\n",
       "        text-align: right;\n",
       "    }\n",
       "</style>\n",
       "<table border=\"1\" class=\"dataframe\">\n",
       "  <thead>\n",
       "    <tr style=\"text-align: right;\">\n",
       "      <th></th>\n",
       "      <th>wineid</th>\n",
       "      <th>alcohol</th>\n",
       "      <th>chlorides</th>\n",
       "      <th>citricacid</th>\n",
       "      <th>density</th>\n",
       "      <th>fixedacidity</th>\n",
       "      <th>freesulfur</th>\n",
       "      <th>ph</th>\n",
       "      <th>quality</th>\n",
       "      <th>sugar</th>\n",
       "      <th>sulphates</th>\n",
       "      <th>totalsulfur</th>\n",
       "      <th>volatileacidity</th>\n",
       "      <th>features</th>\n",
       "      <th>label</th>\n",
       "      <th>rawPrediction</th>\n",
       "      <th>probability</th>\n",
       "      <th>prediction</th>\n",
       "    </tr>\n",
       "  </thead>\n",
       "  <tbody>\n",
       "    <tr>\n",
       "      <td>0</td>\n",
       "      <td>8</td>\n",
       "      <td>10.0</td>\n",
       "      <td>0.065</td>\n",
       "      <td>0.00</td>\n",
       "      <td>0.9946</td>\n",
       "      <td>7.3</td>\n",
       "      <td>15.0</td>\n",
       "      <td>3.39</td>\n",
       "      <td>7.0</td>\n",
       "      <td>1.2</td>\n",
       "      <td>0.47</td>\n",
       "      <td>21.0</td>\n",
       "      <td>0.650</td>\n",
       "      <td>[10.0, 0.06499999761581421, 0.0, 0.99459999799...</td>\n",
       "      <td>1.0</td>\n",
       "      <td>[-116.61332062455122, -116.11569707646935, -11...</td>\n",
       "      <td>[0.3624807686165096, 0.5962112012919782, 0.038...</td>\n",
       "      <td>1.0</td>\n",
       "    </tr>\n",
       "    <tr>\n",
       "      <td>1</td>\n",
       "      <td>30</td>\n",
       "      <td>9.8</td>\n",
       "      <td>0.082</td>\n",
       "      <td>0.00</td>\n",
       "      <td>0.9964</td>\n",
       "      <td>7.8</td>\n",
       "      <td>8.0</td>\n",
       "      <td>3.38</td>\n",
       "      <td>6.0</td>\n",
       "      <td>2.0</td>\n",
       "      <td>0.59</td>\n",
       "      <td>16.0</td>\n",
       "      <td>0.645</td>\n",
       "      <td>[9.800000190734863, 0.0820000022649765, 0.0, 0...</td>\n",
       "      <td>0.0</td>\n",
       "      <td>[-107.00826876792438, -106.69331316801713, -10...</td>\n",
       "      <td>[0.4109511317563823, 0.5630846130734202, 0.023...</td>\n",
       "      <td>1.0</td>\n",
       "    </tr>\n",
       "    <tr>\n",
       "      <td>2</td>\n",
       "      <td>43</td>\n",
       "      <td>10.5</td>\n",
       "      <td>0.332</td>\n",
       "      <td>0.20</td>\n",
       "      <td>0.9968</td>\n",
       "      <td>7.5</td>\n",
       "      <td>8.0</td>\n",
       "      <td>3.21</td>\n",
       "      <td>6.0</td>\n",
       "      <td>2.6</td>\n",
       "      <td>0.90</td>\n",
       "      <td>14.0</td>\n",
       "      <td>0.490</td>\n",
       "      <td>[10.5, 0.3319999873638153, 0.20000000298023224...</td>\n",
       "      <td>0.0</td>\n",
       "      <td>[-112.66442184314677, -112.30188509993125, -11...</td>\n",
       "      <td>[0.3992810255077367, 0.5737548627763441, 0.022...</td>\n",
       "      <td>1.0</td>\n",
       "    </tr>\n",
       "    <tr>\n",
       "      <td>3</td>\n",
       "      <td>129</td>\n",
       "      <td>10.5</td>\n",
       "      <td>0.065</td>\n",
       "      <td>0.16</td>\n",
       "      <td>0.9962</td>\n",
       "      <td>8.0</td>\n",
       "      <td>3.0</td>\n",
       "      <td>3.42</td>\n",
       "      <td>7.0</td>\n",
       "      <td>1.8</td>\n",
       "      <td>0.92</td>\n",
       "      <td>16.0</td>\n",
       "      <td>0.590</td>\n",
       "      <td>[10.5, 0.06499999761581421, 0.1599999964237213...</td>\n",
       "      <td>1.0</td>\n",
       "      <td>[-102.8833290398864, -102.54742453805858, -106...</td>\n",
       "      <td>[0.40916428022145745, 0.5725048690933248, 0.01...</td>\n",
       "      <td>1.0</td>\n",
       "    </tr>\n",
       "    <tr>\n",
       "      <td>4</td>\n",
       "      <td>221</td>\n",
       "      <td>9.4</td>\n",
       "      <td>0.082</td>\n",
       "      <td>0.37</td>\n",
       "      <td>0.9964</td>\n",
       "      <td>7.8</td>\n",
       "      <td>24.0</td>\n",
       "      <td>3.34</td>\n",
       "      <td>6.0</td>\n",
       "      <td>2.0</td>\n",
       "      <td>0.59</td>\n",
       "      <td>58.0</td>\n",
       "      <td>0.340</td>\n",
       "      <td>[9.399999618530273, 0.0820000022649765, 0.3700...</td>\n",
       "      <td>0.0</td>\n",
       "      <td>[-151.32966193268658, -151.34435617974762, -15...</td>\n",
       "      <td>[0.4777992886623408, 0.47082971956014313, 0.04...</td>\n",
       "      <td>0.0</td>\n",
       "    </tr>\n",
       "  </tbody>\n",
       "</table>\n",
       "</div>"
      ],
      "text/plain": [
       "   wineid  alcohol  chlorides  citricacid  density  fixedacidity  freesulfur  \\\n",
       "0       8     10.0      0.065        0.00   0.9946           7.3        15.0   \n",
       "1      30      9.8      0.082        0.00   0.9964           7.8         8.0   \n",
       "2      43     10.5      0.332        0.20   0.9968           7.5         8.0   \n",
       "3     129     10.5      0.065        0.16   0.9962           8.0         3.0   \n",
       "4     221      9.4      0.082        0.37   0.9964           7.8        24.0   \n",
       "\n",
       "     ph  quality  sugar  sulphates  totalsulfur  volatileacidity  \\\n",
       "0  3.39      7.0    1.2       0.47         21.0            0.650   \n",
       "1  3.38      6.0    2.0       0.59         16.0            0.645   \n",
       "2  3.21      6.0    2.6       0.90         14.0            0.490   \n",
       "3  3.42      7.0    1.8       0.92         16.0            0.590   \n",
       "4  3.34      6.0    2.0       0.59         58.0            0.340   \n",
       "\n",
       "                                            features  label  \\\n",
       "0  [10.0, 0.06499999761581421, 0.0, 0.99459999799...    1.0   \n",
       "1  [9.800000190734863, 0.0820000022649765, 0.0, 0...    0.0   \n",
       "2  [10.5, 0.3319999873638153, 0.20000000298023224...    0.0   \n",
       "3  [10.5, 0.06499999761581421, 0.1599999964237213...    1.0   \n",
       "4  [9.399999618530273, 0.0820000022649765, 0.3700...    0.0   \n",
       "\n",
       "                                       rawPrediction  \\\n",
       "0  [-116.61332062455122, -116.11569707646935, -11...   \n",
       "1  [-107.00826876792438, -106.69331316801713, -10...   \n",
       "2  [-112.66442184314677, -112.30188509993125, -11...   \n",
       "3  [-102.8833290398864, -102.54742453805858, -106...   \n",
       "4  [-151.32966193268658, -151.34435617974762, -15...   \n",
       "\n",
       "                                         probability  prediction  \n",
       "0  [0.3624807686165096, 0.5962112012919782, 0.038...         1.0  \n",
       "1  [0.4109511317563823, 0.5630846130734202, 0.023...         1.0  \n",
       "2  [0.3992810255077367, 0.5737548627763441, 0.022...         1.0  \n",
       "3  [0.40916428022145745, 0.5725048690933248, 0.01...         1.0  \n",
       "4  [0.4777992886623408, 0.47082971956014313, 0.04...         0.0  "
      ]
     },
     "metadata": {},
     "output_type": "display_data"
    }
   ],
   "source": [
    "nb = NaiveBayes(smoothing=1.0, modelType=\"multinomial\")\n",
    "\n",
    "# train the model\n",
    "model = nb.fit(train)\n",
    "\n",
    "predictions = model.transform(test)\n",
    "#predictions.show()\n",
    "print (predictions.count())\n",
    "showDF(predictions)"
   ]
  },
  {
   "cell_type": "code",
   "execution_count": 40,
   "metadata": {},
   "outputs": [
    {
     "data": {
      "text/html": [
       "<div>\n",
       "<style scoped>\n",
       "    .dataframe tbody tr th:only-of-type {\n",
       "        vertical-align: middle;\n",
       "    }\n",
       "\n",
       "    .dataframe tbody tr th {\n",
       "        vertical-align: top;\n",
       "    }\n",
       "\n",
       "    .dataframe thead th {\n",
       "        text-align: right;\n",
       "    }\n",
       "</style>\n",
       "<table border=\"1\" class=\"dataframe\">\n",
       "  <thead>\n",
       "    <tr style=\"text-align: right;\">\n",
       "      <th></th>\n",
       "      <th>quality</th>\n",
       "      <th>label</th>\n",
       "      <th>prediction</th>\n",
       "      <th>probability</th>\n",
       "    </tr>\n",
       "  </thead>\n",
       "  <tbody>\n",
       "    <tr>\n",
       "      <td>0</td>\n",
       "      <td>7.0</td>\n",
       "      <td>1.0</td>\n",
       "      <td>1.0</td>\n",
       "      <td>[0.3624807686165096, 0.5962112012919782, 0.038...</td>\n",
       "    </tr>\n",
       "    <tr>\n",
       "      <td>1</td>\n",
       "      <td>6.0</td>\n",
       "      <td>0.0</td>\n",
       "      <td>1.0</td>\n",
       "      <td>[0.4109511317563823, 0.5630846130734202, 0.023...</td>\n",
       "    </tr>\n",
       "    <tr>\n",
       "      <td>2</td>\n",
       "      <td>6.0</td>\n",
       "      <td>0.0</td>\n",
       "      <td>1.0</td>\n",
       "      <td>[0.3992810255077367, 0.5737548627763441, 0.022...</td>\n",
       "    </tr>\n",
       "    <tr>\n",
       "      <td>3</td>\n",
       "      <td>7.0</td>\n",
       "      <td>1.0</td>\n",
       "      <td>1.0</td>\n",
       "      <td>[0.40916428022145745, 0.5725048690933248, 0.01...</td>\n",
       "    </tr>\n",
       "    <tr>\n",
       "      <td>4</td>\n",
       "      <td>6.0</td>\n",
       "      <td>0.0</td>\n",
       "      <td>0.0</td>\n",
       "      <td>[0.4777992886623408, 0.47082971956014313, 0.04...</td>\n",
       "    </tr>\n",
       "  </tbody>\n",
       "</table>\n",
       "</div>"
      ],
      "text/plain": [
       "   quality  label  prediction  \\\n",
       "0      7.0    1.0         1.0   \n",
       "1      6.0    0.0         1.0   \n",
       "2      6.0    0.0         1.0   \n",
       "3      7.0    1.0         1.0   \n",
       "4      6.0    0.0         0.0   \n",
       "\n",
       "                                         probability  \n",
       "0  [0.3624807686165096, 0.5962112012919782, 0.038...  \n",
       "1  [0.4109511317563823, 0.5630846130734202, 0.023...  \n",
       "2  [0.3992810255077367, 0.5737548627763441, 0.022...  \n",
       "3  [0.40916428022145745, 0.5725048690933248, 0.01...  \n",
       "4  [0.4777992886623408, 0.47082971956014313, 0.04...  "
      ]
     },
     "metadata": {},
     "output_type": "display_data"
    }
   ],
   "source": [
    "showDF(predictions.select(\"quality\", \"label\", \"prediction\", \"probability\"))"
   ]
  },
  {
   "cell_type": "markdown",
   "metadata": {},
   "source": [
    "### We can now use the MutliclassClassifciationEvaluator to evalute the accurancy of our predictions. "
   ]
  },
  {
   "cell_type": "code",
   "execution_count": 41,
   "metadata": {},
   "outputs": [
    {
     "name": "stdout",
     "output_type": "stream",
     "text": [
      "Test set accuracy = 0.6010709504685409\n"
     ]
    }
   ],
   "source": [
    "# compute accuracy on the test set\n",
    "evaluator = MulticlassClassificationEvaluator(labelCol=\"label\", predictionCol=\"prediction\",\n",
    "                                              metricName=\"accuracy\")\n",
    "accuracy = evaluator.evaluate(predictions)\n",
    "print(\"Test set accuracy = \" + str(accuracy))"
   ]
  },
  {
   "cell_type": "code",
   "execution_count": 26,
   "metadata": {},
   "outputs": [
    {
     "data": {
      "text/plain": [
       "<cassandra.cluster.ResultSet at 0x7fb7191b92e8>"
      ]
     },
     "execution_count": 26,
     "metadata": {},
     "output_type": "execute_result"
    }
   ],
   "source": [
    "session.execute(\"\"\"drop table wines\"\"\")"
   ]
  }
 ],
 "metadata": {
  "kernelspec": {
   "display_name": "Python 3",
   "language": "python",
   "name": "python3"
  },
  "language_info": {
   "codemirror_mode": {
    "name": "ipython",
    "version": 3
   },
   "file_extension": ".py",
   "mimetype": "text/x-python",
   "name": "python",
   "nbconvert_exporter": "python",
   "pygments_lexer": "ipython3",
   "version": "3.7.3"
  }
 },
 "nbformat": 4,
 "nbformat_minor": 2
}
